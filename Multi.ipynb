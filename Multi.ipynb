{
  "cells": [
    {
      "cell_type": "code",
      "execution_count": null,
      "metadata": {
        "id": "FZyP68kDNZXZ",
        "colab": {
          "base_uri": "https://localhost:8080/"
        },
        "outputId": "41a831e7-0f09-4756-b360-ff5758d38395"
      },
      "outputs": [
        {
          "output_type": "stream",
          "name": "stdout",
          "text": [
            "Requirement already satisfied: requests in /usr/local/lib/python3.12/dist-packages (2.32.4)\n",
            "Requirement already satisfied: charset_normalizer<4,>=2 in /usr/local/lib/python3.12/dist-packages (from requests) (3.4.4)\n",
            "Requirement already satisfied: idna<4,>=2.5 in /usr/local/lib/python3.12/dist-packages (from requests) (3.11)\n",
            "Requirement already satisfied: urllib3<3,>=1.21.1 in /usr/local/lib/python3.12/dist-packages (from requests) (2.5.0)\n",
            "Requirement already satisfied: certifi>=2017.4.17 in /usr/local/lib/python3.12/dist-packages (from requests) (2025.10.5)\n"
          ]
        }
      ],
      "source": [
        "!pip install -q gradio requests\n",
        "!pip install requests\n",
        "!pip install -q sympy numpy matplotlib\n"
      ]
    },
    {
      "cell_type": "code",
      "execution_count": null,
      "metadata": {
        "id": "dVjaRS0LNsAN"
      },
      "outputs": [],
      "source": [
        "import requests\n",
        "import gradio as gr\n",
        "import json"
      ]
    },
    {
      "cell_type": "code",
      "execution_count": null,
      "metadata": {
        "id": "XEx1KiHpNzZz"
      },
      "outputs": [],
      "source": [
        "SERPER_API_KEY = \"285764879e043239ecf494f8bbded332bbceb233\"\n",
        "NEWSDATA_API_KEY = \"pub_d28fe66b9a0f459da7e8f8a65a7920e7\""
      ]
    },
    {
      "cell_type": "code",
      "execution_count": null,
      "metadata": {
        "id": "3oP1FP0LOfnk"
      },
      "outputs": [],
      "source": [
        "def google_search(query):\n",
        "    url = \"https://google.serper.dev/search\"\n",
        "    headers = {\"X-API-KEY\": SERPER_API_KEY, \"Content-Type\": \"application/json\"}\n",
        "    data = {\"q\": query}\n",
        "    response = requests.post(url, headers=headers, json=data)\n",
        "\n",
        "    if response.status_code == 200:\n",
        "        results = response.json()\n",
        "        if \"organic\" in results and len(results[\"organic\"]) > 0:\n",
        "            return results[\"organic\"][0][\"snippet\"]\n",
        "        else:\n",
        "            return \"No results found.\"\n",
        "    else:\n",
        "        return f\"Error: {response.status_code}\"\n"
      ]
    },
    {
      "cell_type": "code",
      "execution_count": null,
      "metadata": {
        "id": "pwnNzBVfOi1U"
      },
      "outputs": [],
      "source": [
        "def get_weather(city):\n",
        "    url = f\"https://geocoding-api.open-meteo.com/v1/search?name={city}\"\n",
        "    response = requests.get(url).json()\n",
        "    if \"results\" not in response:\n",
        "        return \"City not found.\"\n",
        "\n",
        "    lat = response[\"results\"][0][\"latitude\"]\n",
        "    lon = response[\"results\"][0][\"longitude\"]\n",
        "\n",
        "    weather_url = f\"https://api.open-meteo.com/v1/forecast?latitude={lat}&longitude={lon}&current_weather=true\"\n",
        "    data = requests.get(weather_url).json()\n",
        "    weather = data[\"current_weather\"]\n",
        "    return f\"{city}: {weather['temperature']}°C, {weather['windspeed']} km/h wind\"\n"
      ]
    },
    {
      "cell_type": "code",
      "execution_count": null,
      "metadata": {
        "id": "nEWJ83LCOmmy"
      },
      "outputs": [],
      "source": [
        "def get_news(topic):\n",
        "    url = f\"https://newsdata.io/api/1/news?apikey={NEWSDATA_API_KEY}&q={topic}&language=en\"\n",
        "    response = requests.get(url).json()\n",
        "\n",
        "    if \"results\" in response:\n",
        "        top_articles = response[\"results\"][:3]\n",
        "        news_text = \"\\n\\n\".join([f\"📰 {a['title']}\" for a in top_articles])\n",
        "        return news_text\n",
        "    else:\n",
        "        return \"No news found.\"\n"
      ]
    },
    {
      "cell_type": "code",
      "execution_count": null,
      "metadata": {
        "id": "afL0g24QOpS3"
      },
      "outputs": [],
      "source": [
        "def calculator(expression):\n",
        "    try:\n",
        "        return str(eval(expression))\n",
        "    except:\n",
        "        return \"Invalid expression.\"\n"
      ]
    },
    {
      "cell_type": "code",
      "source": [
        "def ai_chat(query, conversation_history=None):\n",
        "    if conversation_history is None:\n",
        "        conversation_history = []\n",
        "\n",
        "    greetings = [\"hi\", \"hello\", \"hey\", \"good morning\", \"good evening\", \"good afternoon\"]\n",
        "    if query.lower().strip() in greetings:\n",
        "        reply = \"Hello! 😊 How can I help you today?\"\n",
        "        conversation_history.append({\"user\": query, \"bot\": reply})\n",
        "        return reply  # ✅ return only the text\n",
        "\n",
        "    url = \"https://google.serper.dev/search\"\n",
        "    headers = {\n",
        "        \"X-API-KEY\": SERPER_API_KEY,\n",
        "        \"Content-Type\": \"application/json\"\n",
        "    }\n",
        "    payload = {\"q\": query}\n",
        "\n",
        "    try:\n",
        "        response = requests.post(url, headers=headers, json=payload, timeout=10)\n",
        "        response.raise_for_status()\n",
        "        results = response.json()\n",
        "    except Exception as e:\n",
        "        reply = f\"Sorry, I couldn't complete the search because of an error: {e}\"\n",
        "        conversation_history.append({\"user\": query, \"bot\": reply})\n",
        "        return reply\n",
        "\n",
        "    snippets = []\n",
        "    if \"organic\" in results:\n",
        "        for item in results[\"organic\"][:3]:\n",
        "            snippet = item.get(\"snippet\", \"\")\n",
        "            if snippet:\n",
        "                snippets.append(snippet)\n",
        "\n",
        "    info = \" \".join(snippets).strip()\n",
        "    if not info:\n",
        "        info = \"I couldn’t find much on that, but let’s talk about it!\"\n",
        "\n",
        "\n",
        "    reply = (\n",
        "        f\"Here's what I found:\\n\\n{info}\\n\\n\"\n",
        "        f\"So basically, that’s the gist of it. Do you want to know more about it?\"\n",
        "    )\n",
        "\n",
        "    conversation_history.append({\"user\": query, \"bot\": reply})\n",
        "    return reply"
      ],
      "metadata": {
        "id": "0E1BkTxAKaIL"
      },
      "execution_count": 86,
      "outputs": []
    },
    {
      "cell_type": "code",
      "execution_count": 87,
      "metadata": {
        "colab": {
          "base_uri": "https://localhost:8080/"
        },
        "id": "NhIY1O8-4oHS",
        "outputId": "89a1fd52-c5ce-4ccb-caf3-7e9341ecfd33"
      },
      "outputs": [
        {
          "output_type": "stream",
          "name": "stdout",
          "text": [
            "🤖 Chatbot ready! Type 'exit' to stop.\n",
            "\n",
            "You: exit\n",
            "Bot: Goodbye! 👋\n"
          ]
        }
      ],
      "source": [
        "print(\"🤖 Chatbot ready! Type 'exit' to stop.\\n\")\n",
        "\n",
        "while True:\n",
        "    user_input = input(\"You: \")\n",
        "    if user_input.lower().strip() in [\"exit\", \"quit\", \"bye\"]:\n",
        "        print(\"Bot: Goodbye! 👋\")\n",
        "        break\n",
        "    print(\"Bot:\", ai_chat(user_input), \"\\n\")\n"
      ]
    },
    {
      "cell_type": "code",
      "execution_count": null,
      "metadata": {
        "id": "J8TLaVSW4_Vj",
        "colab": {
          "base_uri": "https://localhost:8080/"
        },
        "outputId": "64480f02-37ba-4dfe-cd4c-2f150f83dd67"
      },
      "outputs": [
        {
          "output_type": "stream",
          "name": "stdout",
          "text": [
            "Here's what I found:\n",
            "\n",
            "Artificial intelligence is a technology that allows you to generate, classify, and perform tasks like image analysis and speech recognition. AI is technology that enables computers and machines to simulate human learning, comprehension, problem solving, decision making, creativity and autonomy. Artificial intelligence (AI) refers to computer systems capable of performing complex tasks that historically only humans could do, such as ...\n",
            "\n",
            "So basically, that’s the gist. Want more on Explain?\n"
          ]
        }
      ],
      "source": [
        "print(ai_chat(\"Explain artificial intelligence in simple words\"))\n"
      ]
    },
    {
      "cell_type": "code",
      "execution_count": null,
      "metadata": {
        "id": "G0Rv1c3YOviv"
      },
      "outputs": [],
      "source": [
        "def chatbot(query):\n",
        "    q = query.lower()\n",
        "    if \"weather\" in q:\n",
        "        city = q.split(\"weather in\")[-1].strip() if \"weather in\" in q else q.replace(\"weather\", \"\").strip()\n",
        "        return get_weather(city or \"Dhaka\")\n",
        "    elif \"news\" in q:\n",
        "        topic = q.replace(\"news\", \"\").strip()\n",
        "        return get_news(topic or \"world\")\n",
        "    elif any(op in q for op in [\"+\", \"-\", \"*\", \"/\", \"calculate\", \"eval\"]):\n",
        "        expr = q.replace(\"calculate\", \"\").strip()\n",
        "        return calculator(expr)\n",
        "    elif \"search\" in q or \"google\" in q:\n",
        "        topic = q.replace(\"search\", \"\").replace(\"google\", \"\").strip()\n",
        "        return google_search(topic)\n",
        "    else:\n",
        "        return ai_chat(query)\n"
      ]
    },
    {
      "cell_type": "code",
      "execution_count": 85,
      "metadata": {
        "id": "bzvtpOipOyjB",
        "colab": {
          "base_uri": "https://localhost:8080/",
          "height": 616
        },
        "outputId": "497269d9-bce8-4f79-f126-0b5aa1d8daa9"
      },
      "outputs": [
        {
          "output_type": "stream",
          "name": "stdout",
          "text": [
            "Colab notebook detected. This cell will run indefinitely so that you can see errors and logs. To turn off, set debug=False in launch().\n",
            "Note: opening Chrome Inspector may crash demo inside Colab notebooks.\n",
            "* To create a public link, set `share=True` in `launch()`.\n"
          ]
        },
        {
          "output_type": "display_data",
          "data": {
            "text/plain": [
              "<IPython.core.display.Javascript object>"
            ],
            "application/javascript": [
              "(async (port, path, width, height, cache, element) => {\n",
              "                        if (!google.colab.kernel.accessAllowed && !cache) {\n",
              "                            return;\n",
              "                        }\n",
              "                        element.appendChild(document.createTextNode(''));\n",
              "                        const url = await google.colab.kernel.proxyPort(port, {cache});\n",
              "\n",
              "                        const external_link = document.createElement('div');\n",
              "                        external_link.innerHTML = `\n",
              "                            <div style=\"font-family: monospace; margin-bottom: 0.5rem\">\n",
              "                                Running on <a href=${new URL(path, url).toString()} target=\"_blank\">\n",
              "                                    https://localhost:${port}${path}\n",
              "                                </a>\n",
              "                            </div>\n",
              "                        `;\n",
              "                        element.appendChild(external_link);\n",
              "\n",
              "                        const iframe = document.createElement('iframe');\n",
              "                        iframe.src = new URL(path, url).toString();\n",
              "                        iframe.height = height;\n",
              "                        iframe.allow = \"autoplay; camera; microphone; clipboard-read; clipboard-write;\"\n",
              "                        iframe.width = width;\n",
              "                        iframe.style.border = 0;\n",
              "                        element.appendChild(iframe);\n",
              "                    })(7860, \"/\", \"100%\", 500, false, window.element)"
            ]
          },
          "metadata": {}
        },
        {
          "output_type": "stream",
          "name": "stdout",
          "text": [
            "Keyboard interruption in main thread... closing server.\n"
          ]
        },
        {
          "output_type": "execute_result",
          "data": {
            "text/plain": []
          },
          "metadata": {},
          "execution_count": 85
        }
      ],
      "source": [
        "iface = gr.Interface(\n",
        "    fn=chatbot,\n",
        "    inputs=gr.Textbox(label=\"Ask me anything...\"),\n",
        "    outputs=[gr.Textbox(lines=6)],\n",
        "    title=\"🌐 Multifunctional Chatbot\",\n",
        "    description=\"Search, Weather, News, Calculator, and AI Chat — all in one!\"\n",
        ")\n",
        "iface.launch(share=False, debug=True)\n"
      ]
    }
  ],
  "metadata": {
    "colab": {
      "provenance": []
    },
    "kernelspec": {
      "display_name": "Python 3",
      "name": "python3"
    },
    "language_info": {
      "name": "python"
    }
  },
  "nbformat": 4,
  "nbformat_minor": 0
}
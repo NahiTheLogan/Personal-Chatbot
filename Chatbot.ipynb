{
  "nbformat": 4,
  "nbformat_minor": 0,
  "metadata": {
    "colab": {
      "provenance": []
    },
    "kernelspec": {
      "name": "python3",
      "display_name": "Python 3"
    },
    "language_info": {
      "name": "python"
    }
  },
  "cells": [
    {
      "cell_type": "code",
      "source": [
        "!pip install -q requests gradio\n",
        "!pip install requests\n",
        "\n"
      ],
      "metadata": {
        "id": "uvH5KKwM6rcC",
        "colab": {
          "base_uri": "https://localhost:8080/"
        },
        "outputId": "7838c6cd-ee21-46d0-f109-47c7ba16a7d0"
      },
      "execution_count": 35,
      "outputs": [
        {
          "output_type": "stream",
          "name": "stdout",
          "text": [
            "Requirement already satisfied: requests in /usr/local/lib/python3.12/dist-packages (2.32.4)\n",
            "Requirement already satisfied: charset_normalizer<4,>=2 in /usr/local/lib/python3.12/dist-packages (from requests) (3.4.3)\n",
            "Requirement already satisfied: idna<4,>=2.5 in /usr/local/lib/python3.12/dist-packages (from requests) (3.10)\n",
            "Requirement already satisfied: urllib3<3,>=1.21.1 in /usr/local/lib/python3.12/dist-packages (from requests) (2.5.0)\n",
            "Requirement already satisfied: certifi>=2017.4.17 in /usr/local/lib/python3.12/dist-packages (from requests) (2025.10.5)\n"
          ]
        }
      ]
    },
    {
      "cell_type": "code",
      "source": [
        "import requests\n",
        "\n",
        "SERPER_API_KEY = \"Serper API Key\"  # <-- Replace with your actual Serper key\n"
      ],
      "metadata": {
        "id": "eOAcRWZ760H3"
      },
      "execution_count": 36,
      "outputs": []
    },
    {
      "cell_type": "code",
      "source": [
        "def chat_with_serper(query, conversation_history=None):\n",
        "    if conversation_history is None:\n",
        "        conversation_history = []\n",
        "\n",
        "    # --- Step 1: Detect greetings or small talk ---\n",
        "    greetings = [\"hi\", \"hello\", \"hey\", \"good morning\", \"good evening\", \"good afternoon\"]\n",
        "    if query.lower().strip() in greetings:\n",
        "        reply = \"Hello! 😊 How can I help you today?\"\n",
        "        conversation_history.append({\"user\": query, \"bot\": reply})\n",
        "        return reply, conversation_history\n",
        "\n",
        "    # --- Step 2: Continue with Serper search for real queries ---\n",
        "    url = \"https://google.serper.dev/search\"\n",
        "    headers = {\n",
        "        \"X-API-KEY\": SERPER_API_KEY,\n",
        "        \"Content-Type\": \"application/json\"\n",
        "    }\n",
        "    payload = {\"q\": query}\n",
        "\n",
        "    try:\n",
        "        response = requests.post(url, headers=headers, json=payload, timeout=10)\n",
        "        response.raise_for_status()\n",
        "        results = response.json()\n",
        "    except Exception as e:\n",
        "        reply = f\"Sorry, I couldn't complete the search because of an error: {e}\"\n",
        "        conversation_history.append({\"user\": query, \"bot\": reply})\n",
        "        return reply, conversation_history\n",
        "\n",
        "    # --- Step 3: Extract useful snippets ---\n",
        "    snippets = []\n",
        "    if \"organic\" in results:\n",
        "        for item in results[\"organic\"][:3]:\n",
        "            snippet = item.get(\"snippet\", \"\")\n",
        "            if snippet:\n",
        "                snippets.append(snippet)\n",
        "\n",
        "    info = \" \".join(snippets).strip()\n",
        "    if not info:\n",
        "        info = \"I couldn’t find much on that, but let’s talk about it!\"\n",
        "\n",
        "    # --- Step 4: Generate a natural reply ---\n",
        "    reply = (\n",
        "        f\"Here's what I found:\\n\\n{info}\\n\\n\"\n",
        "        \"So basically, that’s the gist of it. What do you think about this?\"\n",
        "    )\n",
        "\n",
        "    conversation_history.append({\"user\": query, \"bot\": reply})\n",
        "    return reply, conversation_history"
      ],
      "metadata": {
        "id": "BwptMkqm95-j"
      },
      "execution_count": 37,
      "outputs": []
    },
    {
      "cell_type": "code",
      "source": [
        "import sys\n",
        "\n",
        "conversation = []\n",
        "\n",
        "print(\"Type your message below. Type 'exit' or 'quit' to end the chat.\\n\")\n",
        "\n",
        "try:\n",
        "    while True:\n",
        "        user_input = input(\"You: \")\n",
        "        if user_input.strip().lower() in [\"exit\", \"quit\"]:\n",
        "            print(\"Bot: Bye! Talk to you soon 😊\")\n",
        "            break\n",
        "\n",
        "        reply, conversation = chat_with_serper(user_input, conversation)\n",
        "        print(\"Bot:\", reply, \"\\n\")\n",
        "\n",
        "except (KeyboardInterrupt, EOFError):\n",
        "    print(\"\\nBot: Chat ended manually. Goodbye! 😊\")\n",
        "except Exception as e:\n",
        "    print(f\"\\n⚠️ Error: {e}\")\n",
        "    sys.exit(1)"
      ],
      "metadata": {
        "colab": {
          "base_uri": "https://localhost:8080/"
        },
        "id": "BkoVZjja995U",
        "outputId": "cd1109b1-a84e-44b3-da0f-52bfcf6fc998"
      },
      "execution_count": 38,
      "outputs": [
        {
          "output_type": "stream",
          "name": "stdout",
          "text": [
            "Type your message below. Type 'exit' or 'quit' to end the chat.\n",
            "\n",
            "Bot: Hello! 😊 How can I help you today? \n",
            "\n",
            "Bot: Here's what I found:\n",
            "\n",
            "I love Rachael's impression of her Daughter's first words \"How You Doing?\" LMFAO. 8:11 · Go to channel · Phoebe, Oh No! | Friends. Always there for you. Celebrate 30 years of #Friends now streaming on Max. #Friends30 #CourteneyCox #MonicaGeller #MatthewPerry ... How you doin'? Stream on HBO MAX https://www.max.com/shows/52dae4c7-2ab1-4bb9-ab1c-8100fd54e2f9 Subscribe now: ...\n",
            "\n",
            "So basically, that’s the gist of it. What do you think about this? \n",
            "\n",
            "Bot: Here's what I found:\n",
            "\n",
            "Unagi is a common ingredient in Japanese cooking, often as kabayaki. It is not to be confused with saltwater eel, which is known as anago in Japanese. Shop Unagi Scooters premier, ultra-light, and portable electric scooters. Compare Unagi models, learn more about All-Access Membership plans, and explore a ... Unaju (うな重) consists of grilled eel fillets served with cooked rice in a rectangular, lacquered box. The dish is usually served in a set ...\n",
            "\n",
            "So basically, that’s the gist of it. What do you think about this? \n",
            "\n",
            "\n",
            "Bot: Chat ended manually. Goodbye! 😊\n"
          ]
        }
      ]
    }
  ]
}